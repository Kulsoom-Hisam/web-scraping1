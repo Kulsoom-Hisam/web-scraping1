{
  "nbformat": 4,
  "nbformat_minor": 0,
  "metadata": {
    "colab": {
      "name": "web_scraping_tutorial.ipynb",
      "provenance": [],
      "collapsed_sections": []
    },
    "kernelspec": {
      "name": "python3",
      "display_name": "Python 3"
    }
  },
  "cells": [
    {
      "cell_type": "markdown",
      "metadata": {
        "id": "W0Ylt_azJYd1"
      },
      "source": [
        "\r\n",
        "Scraping table of contents from a wikipedia page on Darth Vader\r\n",
        "\r\n"
      ]
    },
    {
      "cell_type": "code",
      "metadata": {
        "colab": {
          "base_uri": "https://localhost:8080/"
        },
        "id": "zVMLYD1JFaYA",
        "outputId": "4d1eaf30-601f-405b-f2b5-73b81383b987"
      },
      "source": [
        "# check to see if we have bs4 installed\r\n",
        "import sys\r\n",
        "'bs4' in sys.modules\r\n",
        "# install libraries\r\n",
        "!pip install requests\r\n",
        "!pip install lxml\r\n",
        "!pip install bs4\r\n",
        "# importing libraries\r\n",
        "import requests\r\n",
        "import bs4\r\n",
        "#make request\r\n",
        "res = requests.get('https://en.wikipedia.org/wiki/Darth_Vader')\r\n",
        "# make our soup object\r\n",
        "darth_soup = bs4.BeautifulSoup(res.text, \"lxml\")\r\n",
        "darth_soup\r\n",
        "#grab elements of a class\r\n",
        "darth_soup.select('.toctext')\r\n",
        "# for all items print only text\r\n",
        "for item in darth_soup.select('.toctext'):\r\n",
        "  print(item.text)"
      ],
      "execution_count": 16,
      "outputs": [
        {
          "output_type": "stream",
          "text": [
            "Requirement already satisfied: requests in /usr/local/lib/python3.7/dist-packages (2.23.0)\n",
            "Requirement already satisfied: urllib3!=1.25.0,!=1.25.1,<1.26,>=1.21.1 in /usr/local/lib/python3.7/dist-packages (from requests) (1.24.3)\n",
            "Requirement already satisfied: idna<3,>=2.5 in /usr/local/lib/python3.7/dist-packages (from requests) (2.10)\n",
            "Requirement already satisfied: chardet<4,>=3.0.2 in /usr/local/lib/python3.7/dist-packages (from requests) (3.0.4)\n",
            "Requirement already satisfied: certifi>=2017.4.17 in /usr/local/lib/python3.7/dist-packages (from requests) (2020.12.5)\n",
            "Requirement already satisfied: lxml in /usr/local/lib/python3.7/dist-packages (4.2.6)\n",
            "Requirement already satisfied: bs4 in /usr/local/lib/python3.7/dist-packages (0.0.1)\n",
            "Requirement already satisfied: beautifulsoup4 in /usr/local/lib/python3.7/dist-packages (from bs4) (4.6.3)\n",
            "Creation and development\n",
            "Name\n",
            "In other countries\n",
            "Concept and writing\n",
            "Design\n",
            "Portrayals\n",
            "Characteristics\n",
            "Appearances\n",
            "Skywalker saga\n",
            "Original trilogy\n",
            "Prequel trilogy\n",
            "Sequel trilogy\n",
            "Other Star Wars films\n",
            "The Clone Wars (film)\n",
            "Rogue One\n",
            "Television series\n",
            "Clone Wars (2003–2005)\n",
            "The Clone Wars (2008–2014, 2020)\n",
            "Rebels (2014–2018)\n",
            "Forces of Destiny (2017–2018)\n",
            "Obi-Wan Kenobi\n",
            "Canon literature\n",
            "Comics\n",
            "Virtual reality game\n",
            "Legends\n",
            "Books\n",
            "Comics\n",
            "Video games\n",
            "Other\n",
            "Cultural impact\n",
            "Relationships\n",
            "Family tree\n",
            "Mentorship tree\n",
            "References\n",
            "Sources\n",
            "Further reading\n",
            "External links\n"
          ],
          "name": "stdout"
        }
      ]
    }
  ]
}