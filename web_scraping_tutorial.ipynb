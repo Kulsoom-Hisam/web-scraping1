{
  "nbformat": 4,
  "nbformat_minor": 0,
  "metadata": {
    "colab": {
      "name": "web_scraping_tutorial.ipynb",
      "provenance": [],
      "collapsed_sections": [],
      "authorship_tag": "ABX9TyMcyuecI+t+xgiOAF8HTyMF",
      "include_colab_link": true
    },
    "kernelspec": {
      "name": "python3",
      "display_name": "Python 3"
    }
  },
  "cells": [
    {
      "cell_type": "markdown",
      "metadata": {
        "id": "view-in-github",
        "colab_type": "text"
      },
      "source": [
        "<a href=\"https://colab.research.google.com/github/Kulsoom-Hisam/web-scraping1/blob/main/web_scraping_tutorial.ipynb\" target=\"_parent\"><img src=\"https://colab.research.google.com/assets/colab-badge.svg\" alt=\"Open In Colab\"/></a>"
      ]
    },
    {
      "cell_type": "markdown",
      "metadata": {
        "id": "W0Ylt_azJYd1"
      },
      "source": [
        "\n",
        "Scraping table of contents from a wikipedia page on Darth Vader\n",
        "\n"
      ]
    },
    {
      "cell_type": "code",
      "metadata": {
        "colab": {
          "base_uri": "https://localhost:8080/"
        },
        "id": "zVMLYD1JFaYA",
        "outputId": "4d1eaf30-601f-405b-f2b5-73b81383b987"
      },
      "source": [
        "# check to see if we have bs4 installed\n",
        "import sys\n",
        "'bs4' in sys.modules\n",
        "# install libraries\n",
        "!pip install requests\n",
        "!pip install lxml\n",
        "!pip install bs4\n",
        "# importing libraries\n",
        "import requests\n",
        "import bs4\n",
        "#make request\n",
        "res = requests.get('https://en.wikipedia.org/wiki/Darth_Vader')\n",
        "# make our soup object\n",
        "darth_soup = bs4.BeautifulSoup(res.text, \"lxml\")\n",
        "darth_soup\n",
        "#grab elements of a class\n",
        "darth_soup.select('.toctext')\n",
        "# for all items print only text\n",
        "for item in darth_soup.select('.toctext'):\n",
        "  print(item.text)"
      ],
      "execution_count": null,
      "outputs": [
        {
          "output_type": "stream",
          "text": [
            "Requirement already satisfied: requests in /usr/local/lib/python3.7/dist-packages (2.23.0)\n",
            "Requirement already satisfied: urllib3!=1.25.0,!=1.25.1,<1.26,>=1.21.1 in /usr/local/lib/python3.7/dist-packages (from requests) (1.24.3)\n",
            "Requirement already satisfied: idna<3,>=2.5 in /usr/local/lib/python3.7/dist-packages (from requests) (2.10)\n",
            "Requirement already satisfied: chardet<4,>=3.0.2 in /usr/local/lib/python3.7/dist-packages (from requests) (3.0.4)\n",
            "Requirement already satisfied: certifi>=2017.4.17 in /usr/local/lib/python3.7/dist-packages (from requests) (2020.12.5)\n",
            "Requirement already satisfied: lxml in /usr/local/lib/python3.7/dist-packages (4.2.6)\n",
            "Requirement already satisfied: bs4 in /usr/local/lib/python3.7/dist-packages (0.0.1)\n",
            "Requirement already satisfied: beautifulsoup4 in /usr/local/lib/python3.7/dist-packages (from bs4) (4.6.3)\n",
            "Creation and development\n",
            "Name\n",
            "In other countries\n",
            "Concept and writing\n",
            "Design\n",
            "Portrayals\n",
            "Characteristics\n",
            "Appearances\n",
            "Skywalker saga\n",
            "Original trilogy\n",
            "Prequel trilogy\n",
            "Sequel trilogy\n",
            "Other Star Wars films\n",
            "The Clone Wars (film)\n",
            "Rogue One\n",
            "Television series\n",
            "Clone Wars (2003–2005)\n",
            "The Clone Wars (2008–2014, 2020)\n",
            "Rebels (2014–2018)\n",
            "Forces of Destiny (2017–2018)\n",
            "Obi-Wan Kenobi\n",
            "Canon literature\n",
            "Comics\n",
            "Virtual reality game\n",
            "Legends\n",
            "Books\n",
            "Comics\n",
            "Video games\n",
            "Other\n",
            "Cultural impact\n",
            "Relationships\n",
            "Family tree\n",
            "Mentorship tree\n",
            "References\n",
            "Sources\n",
            "Further reading\n",
            "External links\n"
          ],
          "name": "stdout"
        }
      ]
    }
  ]
}